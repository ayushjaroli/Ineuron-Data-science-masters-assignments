{
 "cells": [
  {
   "cell_type": "markdown",
   "id": "23f12f80",
   "metadata": {},
   "source": [
    " # Assignment - 1 Solution\n",
    " \n",
    " 1. In the below elements which of them are values or an expression? eg:- values can be integer or string and expressions will be mathematical operators.\n",
    "\n",
    "#### Ans.(1)\n",
    "\n",
    "(1)  *   -        mathematical operator\n",
    "\n",
    "(2) 'hello' -     expression\n",
    "\n",
    "(3) -87.8 -       expression\n",
    "\n",
    "(5) /  -          mathematical operator\n",
    "\n",
    "(6) +   -         mathematical operator\n",
    "\n",
    "(7)6  -          expression\n",
    "\n",
    "2. What is the difference between string and variable?\n",
    "\n",
    "#### Ans.(2) \n",
    "           \n",
    " **Variable** – Variables are like containers of values in different data types. It is used to store some information                            which is assigned to it. Anyone can refer a specific variable to get the information assigned to it.\n",
    "             \n",
    " **String** – It is a data type which can be stored inside a variable. It is in the form of  various characters that are                      enclosed within single or double quotes.\n",
    "\n",
    "3. Describe three different data types.\n",
    " \n",
    "#### Ans.(3) \n",
    " \n",
    " (a) **Integers** – This data type is used to denote integers in python. Ex – 21, 2,123 etc. \n",
    "\n",
    " (b) **Floats** – This data type is used to denote decimal numbers in python. Ex- 1.12, 7.35 etc.\n",
    "\n",
    " (c) **Boolean** – This is a type of data type which represents if a particular expression is true or false.\n",
    "\n",
    "\n",
    "\n",
    "\n",
    "4. What is an expression made up of? What do all expressions do?\n",
    "\n",
    "#### Ans.(4) \n",
    "      \n",
    " **Expression** are made up of Operators, variables and values which are used to get desirable results after running a                command.\n",
    "\n",
    " **Expressions** are set of operators, variable and values that needs to be evaluated by the python by adding commands to it.\n",
    "\n",
    "5. This assignment statements, like spam = 10. What is the difference between an expression and a statement?\n",
    "\n",
    "#### Ans.(5) \n",
    "         \n",
    " **Expressions** - are set of operators, variable and values that needs to be evaluated by the python by adding commands to                        it. Ex – 2/3*5+9-10\n",
    "        \n",
    " **Statements** - are commands that actually evaluates the desired results. Ex - print statement, assignment statement etc.\n",
    "\n",
    "6. After running the following code, what does the variable bacon contain?\n",
    "    bacon = 22\n",
    "    bacon + 1\n",
    "\n",
    "#### Ans (6)\n",
    "          \n",
    "  Variable bacon contains 22 only. As bacon is assigned the value 22 and it is not been changed, it is still 22. It                would have changed if bacon = bacon + 1 have promted.\n",
    "\n",
    "\n"
   ]
  },
  {
   "cell_type": "code",
   "execution_count": 28,
   "id": "45edfc55",
   "metadata": {},
   "outputs": [
    {
     "name": "stdout",
     "output_type": "stream",
     "text": [
      "22\n"
     ]
    }
   ],
   "source": [
    "bacon = 22\n",
    "bacon + 1\n",
    "print(bacon)"
   ]
  },
  {
   "cell_type": "markdown",
   "id": "bb8688d2",
   "metadata": {},
   "source": [
    "7. What should the values of the following two terms be?\n",
    "\n",
    "#### Ans (7)\n",
    "\n",
    "'spam' + 'spamspam' = **spamspamspam**\n",
    "\n",
    "'spam' * 3 = **spamspamspam**\n",
    "\n",
    "\n"
   ]
  },
  {
   "cell_type": "code",
   "execution_count": 30,
   "id": "b6864f8d",
   "metadata": {},
   "outputs": [
    {
     "name": "stdout",
     "output_type": "stream",
     "text": [
      "spamspamspam\n",
      "spamspamspam\n"
     ]
    }
   ],
   "source": [
    "print('spam' + 'spamspam')\n",
    "print('spam' * 3)"
   ]
  },
  {
   "cell_type": "markdown",
   "id": "1b6a4ed5",
   "metadata": {},
   "source": [
    "8. Why is eggs a valid variable name while 100 is invalid?\n",
    "\n",
    "#### Ans (8) \n",
    "        \n",
    "  According to python a variable cannot start with a number.\n",
    "\n",
    "9. What three functions can be used to get the integer, floating-point number, or string version of a value?\n",
    "\n",
    "#### Ans(9)  \n",
    "        \n",
    "  **Integer** – int()\n",
    "        \n",
    "  **Floating point number** – float()\n",
    "        \n",
    "  **String** – str()\n",
    "\n",
    "10. Why does this expression cause an error? How can you fix it?\n",
    "'I have eaten ' + 99 + ' burritos.'\n",
    "\n",
    "#### Ans (10)  \n",
    "         \n",
    "   In this expression \"99\" is considered a an integer by the python, so it cannot perform the + operatio.\n",
    "         We have to convert it into string by putting it in quotes.\n",
    "         \n",
    "         \n"
   ]
  },
  {
   "cell_type": "code",
   "execution_count": 33,
   "id": "02003b62",
   "metadata": {},
   "outputs": [
    {
     "ename": "TypeError",
     "evalue": "can only concatenate str (not \"int\") to str",
     "output_type": "error",
     "traceback": [
      "\u001b[1;31m---------------------------------------------------------------------------\u001b[0m",
      "\u001b[1;31mTypeError\u001b[0m                                 Traceback (most recent call last)",
      "\u001b[1;32m~\\AppData\\Local\\Temp/ipykernel_16136/1830233853.py\u001b[0m in \u001b[0;36m<module>\u001b[1;34m\u001b[0m\n\u001b[1;32m----> 1\u001b[1;33m \u001b[0mprint\u001b[0m\u001b[1;33m(\u001b[0m\u001b[1;34m'I have eaten '\u001b[0m \u001b[1;33m+\u001b[0m \u001b[1;36m99\u001b[0m \u001b[1;33m+\u001b[0m \u001b[1;34m' burritos.'\u001b[0m\u001b[1;33m)\u001b[0m\u001b[1;33m\u001b[0m\u001b[1;33m\u001b[0m\u001b[0m\n\u001b[0m",
      "\u001b[1;31mTypeError\u001b[0m: can only concatenate str (not \"int\") to str"
     ]
    }
   ],
   "source": [
    "'I have eaten ' + 99 + ' burritos.'"
   ]
  },
  {
   "cell_type": "code",
   "execution_count": 37,
   "id": "1919e99b",
   "metadata": {},
   "outputs": [
    {
     "data": {
      "text/plain": [
       "'I have eaten 99 burritos'"
      ]
     },
     "execution_count": 37,
     "metadata": {},
     "output_type": "execute_result"
    }
   ],
   "source": [
    "\"I have eaten \" + \"99\" + \" burritos\""
   ]
  }
 ],
 "metadata": {
  "kernelspec": {
   "display_name": "Python 3 (ipykernel)",
   "language": "python",
   "name": "python3"
  },
  "language_info": {
   "codemirror_mode": {
    "name": "ipython",
    "version": 3
   },
   "file_extension": ".py",
   "mimetype": "text/x-python",
   "name": "python",
   "nbconvert_exporter": "python",
   "pygments_lexer": "ipython3",
   "version": "3.9.7"
  }
 },
 "nbformat": 4,
 "nbformat_minor": 5
}
